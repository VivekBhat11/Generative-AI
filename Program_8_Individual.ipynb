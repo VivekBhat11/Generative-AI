{
 "cells": [
  {
   "cell_type": "code",
   "execution_count": 1,
   "id": "6be98187-ff38-4c1e-866d-1fb3d4be8e01",
   "metadata": {},
   "outputs": [
    {
     "data": {
      "text/plain": [
       "'\\nProgram - 8\\nInstall langchain, cohere (for key), langchain-community. Get the api key( By logging into Cohere and obtaining \\nthe cohere key). Load a text document from your google drive . Create a prompt template to display the output in \\na particular manner. \\n\\n'"
      ]
     },
     "execution_count": 1,
     "metadata": {},
     "output_type": "execute_result"
    }
   ],
   "source": [
    "\"\"\"\n",
    "Program - 8\n",
    "Install langchain, cohere (for key), langchain-community. Get the api key( By logging into Cohere and obtaining \n",
    "the cohere key). Load a text document from your google drive . Create a prompt template to display the output in \n",
    "a particular manner. \n",
    "\n",
    "\"\"\""
   ]
  },
  {
   "cell_type": "code",
   "execution_count": null,
   "id": "4db224a2-4854-4c44-bb45-8d04bd027503",
   "metadata": {},
   "outputs": [
    {
     "name": "stdout",
     "output_type": "stream",
     "text": [
      "Requirement already satisfied: langchain in c:\\users\\91901\\anaconda3\\lib\\site-packages (0.3.25)\n",
      "Requirement already satisfied: cohere in c:\\users\\91901\\anaconda3\\lib\\site-packages (5.15.0)\n",
      "Requirement already satisfied: langchain-community in c:\\users\\91901\\anaconda3\\lib\\site-packages (0.3.24)\n",
      "Requirement already satisfied: gdown in c:\\users\\91901\\anaconda3\\lib\\site-packages (5.2.0)\n",
      "Requirement already satisfied: langchain-core<1.0.0,>=0.3.58 in c:\\users\\91901\\anaconda3\\lib\\site-packages (from langchain) (0.3.60)\n",
      "Requirement already satisfied: langchain-text-splitters<1.0.0,>=0.3.8 in c:\\users\\91901\\anaconda3\\lib\\site-packages (from langchain) (0.3.8)\n",
      "Requirement already satisfied: langsmith<0.4,>=0.1.17 in c:\\users\\91901\\anaconda3\\lib\\site-packages (from langchain) (0.3.42)\n",
      "Requirement already satisfied: pydantic<3.0.0,>=2.7.4 in c:\\users\\91901\\anaconda3\\lib\\site-packages (from langchain) (2.8.2)\n",
      "Requirement already satisfied: SQLAlchemy<3,>=1.4 in c:\\users\\91901\\anaconda3\\lib\\site-packages (from langchain) (2.0.34)\n",
      "Requirement already satisfied: requests<3,>=2 in c:\\users\\91901\\anaconda3\\lib\\site-packages (from langchain) (2.32.3)\n",
      "Requirement already satisfied: PyYAML>=5.3 in c:\\users\\91901\\anaconda3\\lib\\site-packages (from langchain) (6.0.1)\n",
      "Requirement already satisfied: fastavro<2.0.0,>=1.9.4 in c:\\users\\91901\\anaconda3\\lib\\site-packages (from cohere) (1.11.1)\n",
      "Requirement already satisfied: httpx>=0.21.2 in c:\\users\\91901\\anaconda3\\lib\\site-packages (from cohere) (0.27.0)\n",
      "Requirement already satisfied: httpx-sse==0.4.0 in c:\\users\\91901\\anaconda3\\lib\\site-packages (from cohere) (0.4.0)\n",
      "Requirement already satisfied: pydantic-core<3.0.0,>=2.18.2 in c:\\users\\91901\\anaconda3\\lib\\site-packages (from cohere) (2.20.1)\n",
      "Requirement already satisfied: tokenizers<1,>=0.15 in c:\\users\\91901\\anaconda3\\lib\\site-packages (from cohere) (0.21.1)\n",
      "Requirement already satisfied: types-requests<3.0.0,>=2.0.0 in c:\\users\\91901\\anaconda3\\lib\\site-packages (from cohere) (2.32.0.20250515)\n",
      "Requirement already satisfied: typing_extensions>=4.0.0 in c:\\users\\91901\\anaconda3\\lib\\site-packages (from cohere) (4.13.2)\n",
      "Requirement already satisfied: aiohttp<4.0.0,>=3.8.3 in c:\\users\\91901\\anaconda3\\lib\\site-packages (from langchain-community) (3.10.5)\n",
      "Requirement already satisfied: tenacity!=8.4.0,<10,>=8.1.0 in c:\\users\\91901\\anaconda3\\lib\\site-packages (from langchain-community) (8.2.3)\n",
      "Requirement already satisfied: dataclasses-json<0.7,>=0.5.7 in c:\\users\\91901\\anaconda3\\lib\\site-packages (from langchain-community) (0.6.7)\n",
      "Requirement already satisfied: pydantic-settings<3.0.0,>=2.4.0 in c:\\users\\91901\\anaconda3\\lib\\site-packages (from langchain-community) (2.9.1)\n",
      "Requirement already satisfied: numpy>=1.26.2 in c:\\users\\91901\\anaconda3\\lib\\site-packages (from langchain-community) (1.26.4)\n",
      "Requirement already satisfied: beautifulsoup4 in c:\\users\\91901\\anaconda3\\lib\\site-packages (from gdown) (4.12.3)\n",
      "Requirement already satisfied: filelock in c:\\users\\91901\\anaconda3\\lib\\site-packages (from gdown) (3.13.1)\n",
      "Requirement already satisfied: tqdm in c:\\users\\91901\\anaconda3\\lib\\site-packages (from gdown) (4.66.5)\n",
      "Requirement already satisfied: aiohappyeyeballs>=2.3.0 in c:\\users\\91901\\anaconda3\\lib\\site-packages (from aiohttp<4.0.0,>=3.8.3->langchain-community) (2.4.0)\n",
      "Requirement already satisfied: aiosignal>=1.1.2 in c:\\users\\91901\\anaconda3\\lib\\site-packages (from aiohttp<4.0.0,>=3.8.3->langchain-community) (1.2.0)\n",
      "Requirement already satisfied: attrs>=17.3.0 in c:\\users\\91901\\anaconda3\\lib\\site-packages (from aiohttp<4.0.0,>=3.8.3->langchain-community) (23.1.0)\n",
      "Requirement already satisfied: frozenlist>=1.1.1 in c:\\users\\91901\\anaconda3\\lib\\site-packages (from aiohttp<4.0.0,>=3.8.3->langchain-community) (1.4.0)\n",
      "Requirement already satisfied: multidict<7.0,>=4.5 in c:\\users\\91901\\anaconda3\\lib\\site-packages (from aiohttp<4.0.0,>=3.8.3->langchain-community) (6.0.4)\n",
      "Requirement already satisfied: yarl<2.0,>=1.0 in c:\\users\\91901\\anaconda3\\lib\\site-packages (from aiohttp<4.0.0,>=3.8.3->langchain-community) (1.11.0)\n",
      "Requirement already satisfied: marshmallow<4.0.0,>=3.18.0 in c:\\users\\91901\\anaconda3\\lib\\site-packages (from dataclasses-json<0.7,>=0.5.7->langchain-community) (3.26.1)\n",
      "Requirement already satisfied: typing-inspect<1,>=0.4.0 in c:\\users\\91901\\anaconda3\\lib\\site-packages (from dataclasses-json<0.7,>=0.5.7->langchain-community) (0.9.0)\n",
      "Requirement already satisfied: anyio in c:\\users\\91901\\anaconda3\\lib\\site-packages (from httpx>=0.21.2->cohere) (4.2.0)\n",
      "Requirement already satisfied: certifi in c:\\users\\91901\\anaconda3\\lib\\site-packages (from httpx>=0.21.2->cohere) (2024.8.30)\n",
      "Requirement already satisfied: httpcore==1.* in c:\\users\\91901\\anaconda3\\lib\\site-packages (from httpx>=0.21.2->cohere) (1.0.2)\n",
      "Requirement already satisfied: idna in c:\\users\\91901\\anaconda3\\lib\\site-packages (from httpx>=0.21.2->cohere) (3.7)\n",
      "Requirement already satisfied: sniffio in c:\\users\\91901\\anaconda3\\lib\\site-packages (from httpx>=0.21.2->cohere) (1.3.0)\n",
      "Requirement already satisfied: h11<0.15,>=0.13 in c:\\users\\91901\\anaconda3\\lib\\site-packages (from httpcore==1.*->httpx>=0.21.2->cohere) (0.14.0)\n",
      "Requirement already satisfied: jsonpatch<2.0,>=1.33 in c:\\users\\91901\\anaconda3\\lib\\site-packages (from langchain-core<1.0.0,>=0.3.58->langchain) (1.33)\n",
      "Requirement already satisfied: packaging<25,>=23.2 in c:\\users\\91901\\anaconda3\\lib\\site-packages (from langchain-core<1.0.0,>=0.3.58->langchain) (24.1)\n",
      "Requirement already satisfied: orjson<4.0.0,>=3.9.14 in c:\\users\\91901\\anaconda3\\lib\\site-packages (from langsmith<0.4,>=0.1.17->langchain) (3.10.18)\n",
      "Requirement already satisfied: requests-toolbelt<2.0.0,>=1.0.0 in c:\\users\\91901\\anaconda3\\lib\\site-packages (from langsmith<0.4,>=0.1.17->langchain) (1.0.0)\n",
      "Requirement already satisfied: zstandard<0.24.0,>=0.23.0 in c:\\users\\91901\\anaconda3\\lib\\site-packages (from langsmith<0.4,>=0.1.17->langchain) (0.23.0)\n",
      "Requirement already satisfied: annotated-types>=0.4.0 in c:\\users\\91901\\anaconda3\\lib\\site-packages (from pydantic<3.0.0,>=2.7.4->langchain) (0.6.0)\n",
      "Requirement already satisfied: python-dotenv>=0.21.0 in c:\\users\\91901\\anaconda3\\lib\\site-packages (from pydantic-settings<3.0.0,>=2.4.0->langchain-community) (0.21.0)\n",
      "Requirement already satisfied: typing-inspection>=0.4.0 in c:\\users\\91901\\anaconda3\\lib\\site-packages (from pydantic-settings<3.0.0,>=2.4.0->langchain-community) (0.4.0)\n",
      "Requirement already satisfied: charset-normalizer<4,>=2 in c:\\users\\91901\\anaconda3\\lib\\site-packages (from requests<3,>=2->langchain) (3.3.2)\n",
      "Requirement already satisfied: urllib3<3,>=1.21.1 in c:\\users\\91901\\anaconda3\\lib\\site-packages (from requests<3,>=2->langchain) (2.2.3)\n",
      "Requirement already satisfied: greenlet!=0.4.17 in c:\\users\\91901\\anaconda3\\lib\\site-packages (from SQLAlchemy<3,>=1.4->langchain) (3.0.1)\n",
      "Requirement already satisfied: huggingface-hub<1.0,>=0.16.4 in c:\\users\\91901\\anaconda3\\lib\\site-packages (from tokenizers<1,>=0.15->cohere) (0.31.2)\n",
      "Requirement already satisfied: soupsieve>1.2 in c:\\users\\91901\\anaconda3\\lib\\site-packages (from beautifulsoup4->gdown) (2.5)\n",
      "Requirement already satisfied: PySocks!=1.5.7,>=1.5.6 in c:\\users\\91901\\anaconda3\\lib\\site-packages (from requests[socks]->gdown) (1.7.1)\n",
      "Requirement already satisfied: colorama in c:\\users\\91901\\anaconda3\\lib\\site-packages (from tqdm->gdown) (0.4.6)\n",
      "Requirement already satisfied: fsspec>=2023.5.0 in c:\\users\\91901\\anaconda3\\lib\\site-packages (from huggingface-hub<1.0,>=0.16.4->tokenizers<1,>=0.15->cohere) (2024.6.1)\n",
      "Requirement already satisfied: jsonpointer>=1.9 in c:\\users\\91901\\anaconda3\\lib\\site-packages (from jsonpatch<2.0,>=1.33->langchain-core<1.0.0,>=0.3.58->langchain) (2.1)\n",
      "Requirement already satisfied: mypy-extensions>=0.3.0 in c:\\users\\91901\\anaconda3\\lib\\site-packages (from typing-inspect<1,>=0.4.0->dataclasses-json<0.7,>=0.5.7->langchain-community) (1.0.0)\n"
     ]
    }
   ],
   "source": [
    "# Install LangChain, Cohere, and gdown (for downloading from Google Drive)\n",
    "!pip install langchain cohere langchain-community gdown"
   ]
  },
  {
   "cell_type": "code",
   "execution_count": 2,
   "id": "996fb15b-4176-44ac-9190-906af972ab47",
   "metadata": {},
   "outputs": [],
   "source": [
    "# Set your Cohere API Key (Replace with your actual key)\n",
    "import os\n",
    "\n",
    "os.environ[\"COHERE_API_KEY\"] = \"D9qGIfhKOs3xfBmAx7alQalXoPfoJVUFSPBsDCr5\" #Enter your Cohere API key \n"
   ]
  },
  {
   "cell_type": "code",
   "execution_count": 4,
   "id": "2ac2f44f-b989-404e-8574-19269f67ac54",
   "metadata": {},
   "outputs": [
    {
     "name": "stdout",
     "output_type": "stream",
     "text": [
      "Requirement already satisfied: gdown in c:\\users\\91901\\anaconda3\\lib\\site-packages (5.2.0)\n",
      "Requirement already satisfied: beautifulsoup4 in c:\\users\\91901\\anaconda3\\lib\\site-packages (from gdown) (4.12.3)\n",
      "Requirement already satisfied: filelock in c:\\users\\91901\\anaconda3\\lib\\site-packages (from gdown) (3.13.1)\n",
      "Requirement already satisfied: requests[socks] in c:\\users\\91901\\anaconda3\\lib\\site-packages (from gdown) (2.32.3)\n",
      "Requirement already satisfied: tqdm in c:\\users\\91901\\anaconda3\\lib\\site-packages (from gdown) (4.66.5)\n",
      "Requirement already satisfied: soupsieve>1.2 in c:\\users\\91901\\anaconda3\\lib\\site-packages (from beautifulsoup4->gdown) (2.5)\n",
      "Requirement already satisfied: charset-normalizer<4,>=2 in c:\\users\\91901\\anaconda3\\lib\\site-packages (from requests[socks]->gdown) (3.3.2)\n",
      "Requirement already satisfied: idna<4,>=2.5 in c:\\users\\91901\\anaconda3\\lib\\site-packages (from requests[socks]->gdown) (3.7)\n",
      "Requirement already satisfied: urllib3<3,>=1.21.1 in c:\\users\\91901\\anaconda3\\lib\\site-packages (from requests[socks]->gdown) (2.2.3)\n",
      "Requirement already satisfied: certifi>=2017.4.17 in c:\\users\\91901\\anaconda3\\lib\\site-packages (from requests[socks]->gdown) (2024.8.30)\n",
      "Requirement already satisfied: PySocks!=1.5.7,>=1.5.6 in c:\\users\\91901\\anaconda3\\lib\\site-packages (from requests[socks]->gdown) (1.7.1)\n",
      "Requirement already satisfied: colorama in c:\\users\\91901\\anaconda3\\lib\\site-packages (from tqdm->gdown) (0.4.6)\n"
     ]
    }
   ],
   "source": [
    "!pip install gdown "
   ]
  },
  {
   "cell_type": "code",
   "execution_count": 5,
   "id": "a350e567-871b-4da8-8042-5a8de2e6444d",
   "metadata": {},
   "outputs": [
    {
     "name": "stderr",
     "output_type": "stream",
     "text": [
      "Downloading...\n",
      "From: https://drive.google.com/uc?id=1D2Pt8NbRSSqmqg6fFwJYv1eOXKJaIrJg\n",
      "To: D:\\Jupyter Workspace\\Gen AI lab\\document.txt\n",
      "100%|██████████| 1.23k/1.23k [00:00<?, ?B/s]\n"
     ]
    },
    {
     "data": {
      "text/plain": [
       "'document.txt'"
      ]
     },
     "execution_count": 5,
     "metadata": {},
     "output_type": "execute_result"
    }
   ],
   "source": [
    "import gdown\n",
    "\n",
    "file_id = \"1D2Pt8NbRSSqmqg6fFwJYv1eOXKJaIrJg\"  # Paste your extracted file ID here\n",
    "url = f\"https://drive.google.com/uc?id={file_id}\"\n",
    "\n",
    "# Download file and save as 'document.txt'\n",
    "gdown.download(url, \"document.txt\", quiet=False)\n"
   ]
  },
  {
   "cell_type": "code",
   "execution_count": 6,
   "id": "84dccd60-272a-449f-985b-4e25dd58b16f",
   "metadata": {},
   "outputs": [
    {
     "name": "stdout",
     "output_type": "stream",
     "text": [
      "Virat Kohli, one of the greatest cricketers of his generation, announced his retirement from Test cricket in early 2023. Kohli made his Test debut for India in 2011 and went on to become one of the most prolific batsmen in the format. Over his career, he scored more than 7,500 runs in Test matches, including 27 centuries. His aggressive batting style, combined with excellent technique, made him a formidable opponent for bowlers worldwide.\n",
      "\n",
      "Kohli’s retirement marked the end of an era for Indian T\n"
     ]
    }
   ],
   "source": [
    "# Read the file content\n",
    "with open(\"document.txt\", \"r\", encoding=\"utf-8\") as file:\n",
    "    document_text = file.read()\n",
    "\n",
    "# Show first 500 characters\n",
    "print(document_text[:500])\n"
   ]
  },
  {
   "cell_type": "code",
   "execution_count": 7,
   "id": "667e1aff-06b6-421e-bfde-34ad50006282",
   "metadata": {},
   "outputs": [
    {
     "name": "stdout",
     "output_type": "stream",
     "text": [
      "\n",
      "Summarize the following document in 5 clear bullet points.\n",
      "\n",
      "Document:\n",
      "---------\n",
      "Virat Kohli, one of the greatest cricketers of his generation, announced his retirement from Test cricket in early 2023. Kohli made his Test debut for India in 2011 and went on to become one of the most prolific batsmen in the format. Over his career, he scored more than 7,500 runs in Test matches, including 27 centuries. His aggressive batting style, combined with excellent technique, made him a formidable opponent for bowlers worldwide.\n",
      "\n",
      "Kohli’s retirement marked the end of an era for Indian Test cricket. He had also served as the captain of the Indian Test team and led them to many memorable victories, including a historic series win in Australia. His contributions to the game have inspired millions of young cricketers globally. Following his retirement, Kohli has expressed his intent to focus more on limited-overs formats and mentoring young talents.\n",
      "\n",
      "The cricket fraternity and fans around the world have widely praised Kohli’s career and his impact on the sport. Tributes poured in \n",
      "\n",
      "Summary:\n",
      "\n"
     ]
    }
   ],
   "source": [
    "from langchain.prompts import PromptTemplate\n",
    "\n",
    "# Create a structured template\n",
    "prompt_template = PromptTemplate(\n",
    "    input_variables=[\"content\"],\n",
    "    template=\"\"\"\n",
    "Summarize the following document in 5 clear bullet points.\n",
    "\n",
    "Document:\n",
    "---------\n",
    "{content}\n",
    "\n",
    "Summary:\n",
    "\"\"\"\n",
    ")\n",
    "\n",
    "# Format the prompt with a portion of the document\n",
    "prompt_text = prompt_template.format(content=document_text[:1000])  # Limit if text is large\n",
    "print(prompt_text)\n"
   ]
  },
  {
   "cell_type": "code",
   "execution_count": 9,
   "id": "ae46405f-bf7a-4c9c-b451-120fb55ee1d1",
   "metadata": {},
   "outputs": [
    {
     "name": "stdout",
     "output_type": "stream",
     "text": [
      "Summary:\n",
      "  - Virat Kohli is described as one of the greatest cricketers of his generation \n",
      "- Kohli retired from Test cricket in early 2023, exiting the format which debuted him \n",
      "- He was known for his aggressive batting style and excellent technique \n",
      "- Kohli was highly praised by fans, players and commentators alike for his passion, commitment and excellence in cricket\n",
      "- His legacy extends beyond his runs and records to his leadership and sportsmanship both on and off the field \n",
      "- Following his retirement, Kohli has expressed a desire to focus on limited-overs formats and mentoring young talents. \n"
     ]
    }
   ],
   "source": [
    "# 1. Load document text from file\n",
    "with open(\"document.txt\", \"r\", encoding=\"utf-8\") as file:\n",
    "    document_text = file.read()\n",
    "\n",
    "# 2. Define prompt template\n",
    "prompt_template = \"\"\"\n",
    "Summarize the following document in 5 clear bullet points.\n",
    "\n",
    "Document:\n",
    "---------\n",
    "{content}\n",
    "\n",
    "Summary:\n",
    "\"\"\"\n",
    "\n",
    "# 3. Import and initialize Cohere LLM\n",
    "from langchain.llms import Cohere\n",
    "import os\n",
    "\n",
    "# Set your Cohere API key here (or set in environment variables)\n",
    "os.environ[\"COHERE_API_KEY\"] = \"D9qGIfhKOs3xfBmAx7alQalXoPfoJVUFSPBsDCr5\"\n",
    "\n",
    "llm = Cohere(cohere_api_key=os.environ[\"COHERE_API_KEY\"])\n",
    "\n",
    "# 4. Format prompt with the document text (limit length if needed)\n",
    "prompt_text = prompt_template.format(content=document_text[:1500])  # first 1500 chars\n",
    "\n",
    "# 5. Get summary from Cohere LLM\n",
    "summary = llm(prompt_text)\n",
    "\n",
    "# 6. Print the summary\n",
    "print(\"Summary:\\n\", summary)\n"
   ]
  },
  {
   "cell_type": "code",
   "execution_count": null,
   "id": "64f355eb-d67e-42d7-b110-456293a64afe",
   "metadata": {},
   "outputs": [],
   "source": []
  }
 ],
 "metadata": {
  "kernelspec": {
   "display_name": "Python 3 (ipykernel)",
   "language": "python",
   "name": "python3"
  },
  "language_info": {
   "codemirror_mode": {
    "name": "ipython",
    "version": 3
   },
   "file_extension": ".py",
   "mimetype": "text/x-python",
   "name": "python",
   "nbconvert_exporter": "python",
   "pygments_lexer": "ipython3",
   "version": "3.12.7"
  }
 },
 "nbformat": 4,
 "nbformat_minor": 5
}
